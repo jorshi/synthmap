{
 "cells": [
  {
   "cell_type": "code",
   "execution_count": null,
   "metadata": {},
   "outputs": [],
   "source": [
    "import IPython.display as ipd\n",
    "import matplotlib.pyplot as plt\n",
    "import torch\n",
    "import torchaudio\n",
    "\n",
    "from synthmap.synth import Snare808\n",
    "\n",
    "%load_ext autoreload\n",
    "%autoreload 2"
   ]
  },
  {
   "cell_type": "code",
   "execution_count": null,
   "metadata": {},
   "outputs": [],
   "source": [
    "snare = Snare808(48000, 48000)\n",
    "\n",
    "num_params = snare.get_num_params()\n",
    "params = torch.rand(8, num_params)\n",
    "\n",
    "y = snare(params)\n",
    "\n",
    "ipd.display(ipd.Audio(y, rate=48000))"
   ]
  },
  {
   "cell_type": "code",
   "execution_count": null,
   "metadata": {},
   "outputs": [],
   "source": [
    "mel = torchaudio.transforms.MelSpectrogram(\n",
    "    sample_rate=48000, n_fft=2048, hop_length=512, n_mels=128\n",
    ")\n",
    "x_mel = mel(y)\n",
    "print(x_mel.shape)"
   ]
  },
  {
   "cell_type": "code",
   "execution_count": null,
   "metadata": {},
   "outputs": [],
   "source": [
    "def log_distance(x, y):\n",
    "    x = torch.log(x + 1.0)\n",
    "    y = torch.log(y + 1.0)\n",
    "    return torch.mean((torch.abs(x - y)))"
   ]
  },
  {
   "cell_type": "code",
   "execution_count": null,
   "metadata": {},
   "outputs": [],
   "source": [
    "dist = torch.zeros(8, 8)\n",
    "for i in range(8):\n",
    "    for j in range(8):\n",
    "        dist[i, j] = log_distance(x_mel[i], x_mel[j])\n",
    "\n",
    "plt.imshow(dist)"
   ]
  },
  {
   "cell_type": "code",
   "execution_count": null,
   "metadata": {},
   "outputs": [],
   "source": [
    "z = torch.randn(8, 16)"
   ]
  },
  {
   "cell_type": "code",
   "execution_count": null,
   "metadata": {},
   "outputs": [],
   "source": [
    "latent_dist = torch.cdist(z, z, p=2)\n",
    "plt.imshow(latent_dist)"
   ]
  },
  {
   "cell_type": "code",
   "execution_count": null,
   "metadata": {},
   "outputs": [],
   "source": [
    "latent_dist.shape"
   ]
  },
  {
   "cell_type": "code",
   "execution_count": null,
   "metadata": {},
   "outputs": [],
   "source": [
    "reg_loss = torch.tanh(latent_dist) - dist\n",
    "reg_loss = torch.mean(torch.abs(reg_loss))\n",
    "print(reg_loss)"
   ]
  }
 ],
 "metadata": {
  "kernelspec": {
   "display_name": "synthmap",
   "language": "python",
   "name": "python3"
  },
  "language_info": {
   "codemirror_mode": {
    "name": "ipython",
    "version": 3
   },
   "file_extension": ".py",
   "mimetype": "text/x-python",
   "name": "python",
   "nbconvert_exporter": "python",
   "pygments_lexer": "ipython3",
   "version": "3.10.14"
  }
 },
 "nbformat": 4,
 "nbformat_minor": 2
}
