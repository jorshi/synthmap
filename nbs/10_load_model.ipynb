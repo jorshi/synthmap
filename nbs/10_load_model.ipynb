{
 "cells": [
  {
   "cell_type": "code",
   "execution_count": null,
   "metadata": {},
   "outputs": [],
   "source": [
    "import sys\n",
    "\n",
    "import IPython.display as ipd\n",
    "from lightning.pytorch.cli import LightningCLI\n",
    "import torch\n",
    "import torchaudio\n",
    "from unittest.mock import patch"
   ]
  },
  {
   "cell_type": "code",
   "execution_count": null,
   "metadata": {},
   "outputs": [],
   "source": [
    "USE_GPU = False\n",
    "device = \"cuda\" if torch.cuda.is_available() and USE_GPU else \"cpu\"\n",
    "\n",
    "config = \"../lightning_logs/wandb/run-20240419_095659-7vtkk1s1/files/model-config.yaml\"\n",
    "ckpt = \"../lightning_logs/wandb/run-20240419_095659-7vtkk1s1/epoch=9-step=312500.ckpt\"\n",
    "\n",
    "with patch.object(\n",
    "    sys, \"argv\", [\"fit\", \"-c\", str(config), \"--trainer.accelerator\", device]\n",
    "):\n",
    "    cli = LightningCLI(run=False)\n",
    "    model = cli.model\n",
    "    synth = cli.datamodule.synth"
   ]
  },
  {
   "cell_type": "code",
   "execution_count": null,
   "metadata": {},
   "outputs": [],
   "source": [
    "state_dict = torch.load(ckpt, map_location=device)[\"state_dict\"]\n",
    "model.load_state_dict(state_dict)\n",
    "model = model.eval()"
   ]
  },
  {
   "cell_type": "code",
   "execution_count": null,
   "metadata": {},
   "outputs": [],
   "source": [
    "audio, sr = torchaudio.load(\"../audio/808_samples/BD 808 Smooth C 09.wav\")\n",
    "if sr != 48000:\n",
    "    audio = torchaudio.functional.resample(audio, sr, 48000, lowpass_filter_width=512)\n",
    "    sr = 48000\n",
    "\n",
    "# Pad to 1 second\n",
    "audio = torch.nn.functional.pad(audio, (0, sr - audio.shape[1]))\n",
    "print(audio.shape)"
   ]
  },
  {
   "cell_type": "code",
   "execution_count": null,
   "metadata": {},
   "outputs": [],
   "source": [
    "ipd.Audio(audio.squeeze().numpy(), rate=sr)"
   ]
  },
  {
   "cell_type": "code",
   "execution_count": null,
   "metadata": {},
   "outputs": [],
   "source": [
    "with torch.no_grad():\n",
    "    params, _, _ = model(audio=audio.to(device))\n",
    "\n",
    "print(params)\n",
    "y_hat = synth(torch.clamp(params, 0.0, 1.0))"
   ]
  },
  {
   "cell_type": "code",
   "execution_count": null,
   "metadata": {},
   "outputs": [],
   "source": [
    "ipd.Audio(y_hat.squeeze().cpu().numpy(), rate=sr)"
   ]
  },
  {
   "cell_type": "code",
   "execution_count": null,
   "metadata": {},
   "outputs": [],
   "source": [
    "synth_data = cli.datamodule.test_dataloader()\n",
    "batch = next(iter(synth_data))"
   ]
  },
  {
   "cell_type": "code",
   "execution_count": null,
   "metadata": {},
   "outputs": [],
   "source": [
    "batch[0].shape\n",
    "\n",
    "with torch.no_grad():\n",
    "    params, _, _ = model(audio=batch[0].to(device))\n",
    "\n",
    "\n",
    "loss = model.loss_fn(params, batch[1].to(device))\n",
    "print(loss)\n",
    "\n",
    "y_hat = synth(torch.clamp(params, 0.0, 1.0))"
   ]
  },
  {
   "cell_type": "code",
   "execution_count": null,
   "metadata": {},
   "outputs": [],
   "source": [
    "print(y_hat.shape)\n",
    "for i in range(16):\n",
    "    print(batch[0][i].shape)\n",
    "    print(y_hat[i].shape)\n",
    "    ipd.display(ipd.Audio(batch[0][i].cpu().numpy(), rate=48000))\n",
    "    ipd.display(ipd.Audio(y_hat[i].cpu().numpy(), rate=48000))\n",
    "    print(\"----\")"
   ]
  }
 ],
 "metadata": {
  "kernelspec": {
   "display_name": "synthmap",
   "language": "python",
   "name": "python3"
  },
  "language_info": {
   "codemirror_mode": {
    "name": "ipython",
    "version": 3
   },
   "file_extension": ".py",
   "mimetype": "text/x-python",
   "name": "python",
   "nbconvert_exporter": "python",
   "pygments_lexer": "ipython3",
   "version": "3.10.14"
  }
 },
 "nbformat": 4,
 "nbformat_minor": 2
}
