{
 "cells": [
  {
   "cell_type": "markdown",
   "metadata": {},
   "source": [
    "# Loading pre-trained models"
   ]
  },
  {
   "cell_type": "code",
   "execution_count": null,
   "metadata": {},
   "outputs": [],
   "source": [
    "from einops import rearrange\n",
    "import IPython.display as ipd\n",
    "from lightning.pytorch.cli import LightningCLI\n",
    "import yaml\n",
    "from jsonargparse import ArgumentParser, ActionConfigFile\n",
    "import sys\n",
    "from unittest.mock import patch\n",
    "import torch\n",
    "\n",
    "from synthmap.task import SynthMapTask"
   ]
  },
  {
   "cell_type": "code",
   "execution_count": null,
   "metadata": {},
   "outputs": [],
   "source": [
    "USE_GPU = False\n",
    "device = \"cuda\" if torch.cuda.is_available() and USE_GPU else \"cpu\""
   ]
  },
  {
   "cell_type": "code",
   "execution_count": null,
   "metadata": {},
   "outputs": [],
   "source": [
    "config = \"../cfg/vae_discrete.yaml\"\n",
    "ckpt = \"../lightning_logs/version_9/checkpoints/epoch=20-step=32823.ckpt\"\n",
    "\n",
    "with patch.object(\n",
    "    sys, \"argv\", [\"fit\", \"-c\", str(config), \"--trainer.accelerator\", device]\n",
    "):\n",
    "    cli = LightningCLI(run=False)\n",
    "    model = cli.model"
   ]
  },
  {
   "cell_type": "code",
   "execution_count": null,
   "metadata": {},
   "outputs": [],
   "source": [
    "state_dict = torch.load(ckpt, map_location=device)[\"state_dict\"]\n",
    "model.load_state_dict(state_dict)\n",
    "model = model.eval()"
   ]
  },
  {
   "cell_type": "code",
   "execution_count": null,
   "metadata": {},
   "outputs": [],
   "source": [
    "decoder = model.autoencoder.decoder\n",
    "print(decoder.in_size)"
   ]
  },
  {
   "cell_type": "code",
   "execution_count": null,
   "metadata": {},
   "outputs": [],
   "source": [
    "synth = cli.datamodule.synth"
   ]
  },
  {
   "cell_type": "code",
   "execution_count": null,
   "metadata": {},
   "outputs": [],
   "source": [
    "z = torch.randn(2, decoder.in_size)\n",
    "p = decoder(z)\n",
    "\n",
    "# Convert to synth params\n",
    "p = model.param_discretizer.group_parameters(p)\n",
    "p = model.param_discretizer.inverse(p)\n",
    "\n",
    "y = synth(p)"
   ]
  },
  {
   "cell_type": "code",
   "execution_count": null,
   "metadata": {},
   "outputs": [],
   "source": [
    "ipd.display(ipd.Audio(y[0].numpy(), rate=synth.sample_rate))\n",
    "ipd.display(ipd.Audio(y[1].numpy(), rate=synth.sample_rate))"
   ]
  },
  {
   "cell_type": "code",
   "execution_count": null,
   "metadata": {},
   "outputs": [],
   "source": [
    "# interpolate between the two z vectors\n",
    "steps = torch.linspace(0, 1, 10)\n",
    "z_interp = z[0] * steps[:, None] + z[1] * (1 - steps[:, None])\n",
    "z_interp = z_interp / torch.sqrt((1 - steps[:, None]) ** 2 + steps[:, None] ** 2)\n",
    "\n",
    "p_interp = decoder(z_interp)\n",
    "p_interp = model.param_discretizer.group_parameters(p_interp)\n",
    "p_interp = model.param_discretizer.inverse(p_interp)\n",
    "\n",
    "y_interp = synth(p_interp)\n",
    "\n",
    "y_interp = rearrange(y_interp, \"b n -> (b n)\")\n",
    "ipd.display(ipd.Audio(y_interp.cpu().numpy(), rate=synth.sample_rate))\n",
    "\n",
    "# for i in range(10):\n",
    "#     ipd.display(ipd.Audio(y_interp[i].cpu().numpy(), rate=synth.sample_rate))"
   ]
  },
  {
   "cell_type": "code",
   "execution_count": null,
   "metadata": {},
   "outputs": [],
   "source": []
  }
 ],
 "metadata": {
  "kernelspec": {
   "display_name": "synthmap",
   "language": "python",
   "name": "python3"
  },
  "language_info": {
   "codemirror_mode": {
    "name": "ipython",
    "version": 3
   },
   "file_extension": ".py",
   "mimetype": "text/x-python",
   "name": "python",
   "nbconvert_exporter": "python",
   "pygments_lexer": "ipython3",
   "version": "3.10.14"
  }
 },
 "nbformat": 4,
 "nbformat_minor": 2
}
