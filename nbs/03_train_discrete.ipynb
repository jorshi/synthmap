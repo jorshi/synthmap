{
 "cells": [
  {
   "cell_type": "code",
   "execution_count": null,
   "metadata": {},
   "outputs": [],
   "source": [
    "from einops import rearrange\n",
    "import IPython.display as ipd\n",
    "import lightning as L\n",
    "import matplotlib.pyplot as plt\n",
    "from scipy.ndimage import gaussian_filter1d\n",
    "import torch\n",
    "from tqdm import tqdm\n",
    "\n",
    "from synthmap.synth import Snare808\n",
    "from synthmap.data import SynthesizerDataModule\n",
    "from synthmap.model import MLP\n",
    "from synthmap.model import AutoEncoder\n",
    "from synthmap.task import SynthMapTask\n",
    "from synthmap.params import DiscretizedNumericalParameters\n",
    "\n",
    "%load_ext autoreload\n",
    "%autoreload 2"
   ]
  },
  {
   "cell_type": "code",
   "execution_count": null,
   "metadata": {},
   "outputs": [],
   "source": [
    "snare = Snare808(48000, 48000)\n",
    "\n",
    "num_params = snare.get_num_params()\n",
    "params = torch.rand(2, num_params)\n",
    "\n",
    "y = snare(params)\n",
    "\n",
    "ipd.display(ipd.Audio(y, rate=48000))"
   ]
  },
  {
   "cell_type": "code",
   "execution_count": null,
   "metadata": {},
   "outputs": [],
   "source": [
    "dp = DiscretizedNumericalParameters(params.shape[-1], 32)"
   ]
  },
  {
   "cell_type": "code",
   "execution_count": null,
   "metadata": {},
   "outputs": [],
   "source": [
    "loss = torch.nn.CrossEntropyLoss()"
   ]
  },
  {
   "cell_type": "code",
   "execution_count": null,
   "metadata": {},
   "outputs": [],
   "source": [
    "bottleneck = 16\n",
    "variational = True\n",
    "encoder_bottleneck = bottleneck * 2 if variational else bottleneck\n",
    "\n",
    "encoder = MLP(\n",
    "    num_params,\n",
    "    256,\n",
    "    encoder_bottleneck,\n",
    "    3,\n",
    "    torch.nn.LeakyReLU(),\n",
    "    layer_norm=True,\n",
    "    init_std=0.1,\n",
    ")\n",
    "decoder = MLP(\n",
    "    bottleneck,\n",
    "    256,\n",
    "    dp.num_discrete_params,\n",
    "    3,\n",
    "    torch.nn.LeakyReLU(),\n",
    "    layer_norm=True,\n",
    "    init_std=0.1,\n",
    ")\n",
    "vae = AutoEncoder(encoder, decoder, bottleneck=variational, beta=0.01)\n",
    "\n",
    "# vae(params)"
   ]
  },
  {
   "cell_type": "code",
   "execution_count": null,
   "metadata": {},
   "outputs": [],
   "source": [
    "synthmap = SynthMapTask(vae, lr=1e-3, param_discretizer=dp, loss_fn=loss)\n",
    "\n",
    "data = SynthesizerDataModule(\n",
    "    synth=snare, batch_size=64, num_train=100000, return_sound=False\n",
    ")\n",
    "data.setup(\"fit\")\n",
    "train_dataloader = data.train_dataloader()"
   ]
  },
  {
   "cell_type": "code",
   "execution_count": null,
   "metadata": {},
   "outputs": [],
   "source": [
    "accelerator = \"gpu\" if torch.cuda.is_available() else \"cpu\"\n",
    "trainer = L.Trainer(max_epochs=4, accelerator=accelerator)\n",
    "\n",
    "trainer.fit(synthmap, train_dataloaders=train_dataloader)"
   ]
  },
  {
   "cell_type": "code",
   "execution_count": null,
   "metadata": {},
   "outputs": [],
   "source": [
    "params = torch.rand(2, num_params)\n",
    "y, _, _ = synthmap(params.to(synthmap.device))\n",
    "\n",
    "p_hat = dp.inverse(dp.group_parameters(y))\n",
    "\n",
    "ipd.display(ipd.Audio(snare(p_hat[0:1]), rate=48000))\n",
    "ipd.display(ipd.Audio(snare(params[0:1]), rate=48000))\n",
    "\n",
    "print(p_hat)\n",
    "print(params)"
   ]
  },
  {
   "cell_type": "code",
   "execution_count": null,
   "metadata": {},
   "outputs": [],
   "source": [
    "z = synthmap.autoencoder.encoder(params.to(synthmap.device))\n",
    "z, _ = synthmap.autoencoder.bottleneck(z)\n",
    "\n",
    "z[0, 4:16] = 0.1\n",
    "\n",
    "y = synthmap.autoencoder.decoder(z)\n",
    "\n",
    "p_hat = dp.inverse(dp.group_parameters(y))\n",
    "ipd.display(ipd.Audio(snare(p_hat[0:1]), rate=48000))"
   ]
  },
  {
   "cell_type": "code",
   "execution_count": null,
   "metadata": {},
   "outputs": [],
   "source": []
  },
  {
   "cell_type": "code",
   "execution_count": null,
   "metadata": {},
   "outputs": [],
   "source": []
  }
 ],
 "metadata": {
  "kernelspec": {
   "display_name": "synthmap",
   "language": "python",
   "name": "python3"
  },
  "language_info": {
   "codemirror_mode": {
    "name": "ipython",
    "version": 3
   },
   "file_extension": ".py",
   "mimetype": "text/x-python",
   "name": "python",
   "nbconvert_exporter": "python",
   "pygments_lexer": "ipython3",
   "version": "3.10.14"
  }
 },
 "nbformat": 4,
 "nbformat_minor": 2
}
