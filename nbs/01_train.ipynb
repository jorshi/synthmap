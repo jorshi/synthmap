{
 "cells": [
  {
   "cell_type": "markdown",
   "metadata": {},
   "source": [
    "# Example Notebook"
   ]
  },
  {
   "cell_type": "code",
   "execution_count": null,
   "metadata": {},
   "outputs": [],
   "source": [
    "import IPython.display as ipd\n",
    "import lightning as L\n",
    "import torch\n",
    "from tqdm import tqdm\n",
    "\n",
    "from synthmap.synth import Snare808\n",
    "from synthmap.data import SynthesizerDataModule\n",
    "from synthmap.model import MLP\n",
    "from synthmap.model import AutoEncoder\n",
    "from synthmap.task import SynthMapTask\n",
    "from synthmap.params import DiscretizedNumericalParameters\n",
    "\n",
    "%load_ext autoreload\n",
    "%autoreload 2"
   ]
  },
  {
   "cell_type": "markdown",
   "metadata": {},
   "source": [
    "## Synthesizer"
   ]
  },
  {
   "cell_type": "code",
   "execution_count": null,
   "metadata": {},
   "outputs": [],
   "source": [
    "snare = Snare808(48000, 48000)\n",
    "\n",
    "num_params = snare.get_num_params()\n",
    "params = torch.rand(1, num_params)\n",
    "\n",
    "y = snare(params)\n",
    "\n",
    "ipd.display(ipd.Audio(y, rate=48000))"
   ]
  },
  {
   "cell_type": "markdown",
   "metadata": {},
   "source": [
    "## Datamodule"
   ]
  },
  {
   "cell_type": "code",
   "execution_count": null,
   "metadata": {},
   "outputs": [],
   "source": [
    "data = SynthesizerDataModule(\n",
    "    synth=snare, batch_size=64, num_train=100000, return_sound=True\n",
    ")\n",
    "data.setup(\"fit\")\n",
    "train_dataloader = data.train_dataloader()\n",
    "\n",
    "y, params = next(iter(train_dataloader))"
   ]
  },
  {
   "cell_type": "code",
   "execution_count": null,
   "metadata": {},
   "outputs": [],
   "source": [
    "print(y.shape, params.shape)\n",
    "ipd.display(ipd.Audio(y[0], rate=48000))"
   ]
  },
  {
   "cell_type": "markdown",
   "metadata": {},
   "source": [
    "## Encoder / Decoder"
   ]
  },
  {
   "cell_type": "code",
   "execution_count": null,
   "metadata": {},
   "outputs": [],
   "source": [
    "bottleneck = 8\n",
    "variational = True\n",
    "encoder_bottleneck = bottleneck * 2 if variational else bottleneck\n",
    "\n",
    "encoder = MLP(num_params, 256, encoder_bottleneck, 3, torch.nn.ReLU(), layer_norm=True)\n",
    "decoder = MLP(bottleneck, 256, num_params, 3, torch.nn.ReLU(), layer_norm=True)\n",
    "vae = AutoEncoder(encoder, decoder, bottleneck=variational, beta=1e-8)\n",
    "\n",
    "y_hat, _, _ = vae(params)\n",
    "print(y_hat.shape)"
   ]
  },
  {
   "cell_type": "markdown",
   "metadata": {},
   "source": [
    "## Task"
   ]
  },
  {
   "cell_type": "code",
   "execution_count": null,
   "metadata": {},
   "outputs": [],
   "source": [
    "synthmap = SynthMapTask(vae, lr=1e-3)\n",
    "\n",
    "data = SynthesizerDataModule(\n",
    "    synth=snare, batch_size=8, num_train=100000, return_sound=False\n",
    ")\n",
    "data.setup(\"fit\")\n",
    "train_dataloader = data.train_dataloader()"
   ]
  },
  {
   "cell_type": "code",
   "execution_count": null,
   "metadata": {},
   "outputs": [],
   "source": [
    "accelerator = \"gpu\" if torch.cuda.is_available() else \"cpu\"\n",
    "trainer = L.Trainer(max_epochs=4, accelerator=accelerator)\n",
    "\n",
    "trainer.fit(synthmap, train_dataloaders=train_dataloader)"
   ]
  },
  {
   "cell_type": "code",
   "execution_count": null,
   "metadata": {},
   "outputs": [],
   "source": [
    "params = torch.rand(1, num_params, device=synthmap.device)\n",
    "y = snare(params)\n",
    "ipd.display(ipd.Audio(y.detach().cpu(), rate=48000))\n",
    "\n",
    "p_hat, _, _ = synthmap.forward(params)\n",
    "y_hat = snare(torch.clamp(p_hat, 0.0, 1.0))\n",
    "ipd.display(ipd.Audio(y_hat.detach().cpu(), rate=48000))"
   ]
  },
  {
   "cell_type": "code",
   "execution_count": null,
   "metadata": {},
   "outputs": [],
   "source": [
    "print(params)\n",
    "vae(params)"
   ]
  },
  {
   "cell_type": "code",
   "execution_count": null,
   "metadata": {},
   "outputs": [],
   "source": [
    "torch.nn.functional.l1_loss(params, p_hat)"
   ]
  },
  {
   "cell_type": "code",
   "execution_count": null,
   "metadata": {},
   "outputs": [],
   "source": []
  }
 ],
 "metadata": {
  "kernelspec": {
   "display_name": "synthmap",
   "language": "python",
   "name": "python3"
  },
  "language_info": {
   "codemirror_mode": {
    "name": "ipython",
    "version": 3
   },
   "file_extension": ".py",
   "mimetype": "text/x-python",
   "name": "python",
   "nbconvert_exporter": "python",
   "pygments_lexer": "ipython3",
   "version": "3.10.14"
  }
 },
 "nbformat": 4,
 "nbformat_minor": 2
}
