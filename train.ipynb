{
 "cells": [
  {
   "cell_type": "code",
   "execution_count": null,
   "metadata": {},
   "outputs": [],
   "source": [
    "import torch\n",
    "\n",
    "import IPython.display as ipd\n",
    "import lightning as L\n",
    "\n",
    "from synthmap.data.fitness import MultiScaleSpectralFitness\n",
    "from synthmap.data.genetic import GeneticSynthDataLoader\n",
    "from synthmap.synth import Snare808\n",
    "from synthmap.utils.model_utils import load_model\n",
    "from synthmap.utils.audio_utils import load_audio\n",
    "\n",
    "%load_ext autoreload\n",
    "%autoreload 2"
   ]
  },
  {
   "cell_type": "code",
   "execution_count": null,
   "metadata": {},
   "outputs": [],
   "source": [
    "TARGET = \"audio/kicks/BD 808 Noise 01.wav\"\n",
    "VAE_CFG = \"cfg/param_vae_timbre.yaml\""
   ]
  },
  {
   "cell_type": "code",
   "execution_count": null,
   "metadata": {},
   "outputs": [],
   "source": [
    "snare = Snare808(48000, 48000)\n",
    "\n",
    "num_params = snare.get_num_params()\n",
    "params = torch.rand(1, num_params)"
   ]
  },
  {
   "cell_type": "code",
   "execution_count": null,
   "metadata": {},
   "outputs": [],
   "source": [
    "mel_fitness = MultiScaleSpectralFitness(\n",
    "    TARGET, 48000, 48000, fft_sizes=[2048], scale=\"mel\", n_bins=128\n",
    ")\n",
    "stft_fitness = MultiScaleSpectralFitness(\n",
    "    TARGET,\n",
    "    48000,\n",
    "    48000,\n",
    "    fft_sizes=[1024, 512, 256, 64],\n",
    "    w_sc=1.0,\n",
    "    w_log_mag=0.0,\n",
    "    w_lin_mag=1.0,\n",
    "    sum_loss=True,\n",
    ")"
   ]
  },
  {
   "cell_type": "code",
   "execution_count": null,
   "metadata": {},
   "outputs": [],
   "source": [
    "dataloader = GeneticSynthDataLoader(\n",
    "    snare,\n",
    "    10,\n",
    "    128,\n",
    "    fitness_fns=[mel_fitness, stft_fitness],\n",
    "    verbose=False,\n",
    "    reset_on_epoch=False,\n",
    "    device=\"cuda\",\n",
    ")"
   ]
  },
  {
   "cell_type": "code",
   "execution_count": null,
   "metadata": {},
   "outputs": [],
   "source": [
    "# Pre-seed\n",
    "config = \"models/soundmatch_v1/config.yaml\"\n",
    "ckpt = \"models/soundmatch_v1/model.ckpt\"\n",
    "model, synth = load_model(config, ckpt, return_synth=True, device=\"cuda\")"
   ]
  },
  {
   "cell_type": "code",
   "execution_count": null,
   "metadata": {},
   "outputs": [],
   "source": [
    "audio = load_audio(TARGET, 48000, length=48000)\n",
    "\n",
    "with torch.no_grad():\n",
    "    params, _, _ = model(audio=audio)\n",
    "\n",
    "print(params)\n",
    "\n",
    "ipd.Audio(synth(params).cpu().numpy(), rate=48000)"
   ]
  },
  {
   "cell_type": "code",
   "execution_count": null,
   "metadata": {},
   "outputs": [],
   "source": [
    "population = dataloader.ga.population.access_values()\n",
    "population[0] = params[0]"
   ]
  },
  {
   "cell_type": "code",
   "execution_count": null,
   "metadata": {},
   "outputs": [],
   "source": [
    "for i, batch in enumerate(dataloader):\n",
    "    preset, audio = batch"
   ]
  },
  {
   "cell_type": "code",
   "execution_count": null,
   "metadata": {},
   "outputs": [],
   "source": [
    "best_params = dataloader.ga.population.take_best(1).values.clone()\n",
    "print(best_params)"
   ]
  },
  {
   "cell_type": "code",
   "execution_count": null,
   "metadata": {},
   "outputs": [],
   "source": [
    "y_hat = synth(best_params)\n",
    "\n",
    "ipd.Audio(y_hat.cpu().numpy(), rate=48000)"
   ]
  },
  {
   "cell_type": "code",
   "execution_count": null,
   "metadata": {},
   "outputs": [],
   "source": [
    "audio = load_audio(TARGET, 48000, length=48000)\n",
    "ipd.Audio(audio[0].cpu().numpy(), rate=48000)"
   ]
  },
  {
   "cell_type": "code",
   "execution_count": null,
   "metadata": {},
   "outputs": [],
   "source": [
    "task = load_model(VAE_CFG, device=\"cpu\", load_data=True)"
   ]
  },
  {
   "cell_type": "code",
   "execution_count": null,
   "metadata": {},
   "outputs": [],
   "source": [
    "trainer = L.Trainer(accelerator=\"gpu\", devices=1, max_epochs=250)\n",
    "trainer.fit(task, train_dataloaders=dataloader)"
   ]
  },
  {
   "cell_type": "code",
   "execution_count": null,
   "metadata": {},
   "outputs": [],
   "source": [
    "p_in = dataloader.ga.population.take_best(1).values.clone()\n",
    "\n",
    "z = task.param_encoder(p_in.to(task.device))\n",
    "z, _ = task.bottleneck(z)\n",
    "\n",
    "# Rand\n",
    "z = torch.randn_like(z)\n",
    "\n",
    "p_out = task.param_decoder(z)\n",
    "\n",
    "print(z)\n",
    "# p_out, _, _ = task(params=p_in.to(task.device))\n",
    "\n",
    "out = torch.clamp(p_out, 0.0, 1)\n",
    "ipd.Audio(synth(out).detach().cpu().numpy(), rate=48000)"
   ]
  },
  {
   "cell_type": "code",
   "execution_count": null,
   "metadata": {},
   "outputs": [],
   "source": [
    "extractor = task.audio_regularizer.extractor"
   ]
  },
  {
   "cell_type": "markdown",
   "metadata": {},
   "source": [
    "Interpolate the timbre"
   ]
  },
  {
   "cell_type": "code",
   "execution_count": null,
   "metadata": {},
   "outputs": [],
   "source": [
    "dim = 2\n",
    "N = 10\n",
    "v = torch.linspace(-3.0, 3.0, N)\n",
    "for i in range(N):\n",
    "    z_interp = z.clone()\n",
    "    z_interp[0, dim] = z_interp[0, dim] + v[i]\n",
    "\n",
    "    p_interp = task.param_decoder(z_interp)\n",
    "    out = torch.clamp(p_interp, 0.0, 1)\n",
    "    y_hat = synth(out)\n",
    "\n",
    "\n",
    "    features = extractor(y_hat)\n",
    "    print(features[0, dim])\n",
    "\n",
    "    ipd.display(ipd.Audio(y_hat.detach().cpu().numpy(), rate=48000, normalize=False))"
   ]
  },
  {
   "cell_type": "code",
   "execution_count": null,
   "metadata": {},
   "outputs": [],
   "source": [
    "p_in = dataloader.ga.population.take_best(1).values.clone()\n",
    "ipd.Audio(synth(p_in).detach().cpu().numpy(), rate=48000)"
   ]
  },
  {
   "cell_type": "code",
   "execution_count": null,
   "metadata": {},
   "outputs": [],
   "source": []
  }
 ],
 "metadata": {
  "kernelspec": {
   "display_name": "synthmap",
   "language": "python",
   "name": "python3"
  },
  "language_info": {
   "codemirror_mode": {
    "name": "ipython",
    "version": 3
   },
   "file_extension": ".py",
   "mimetype": "text/x-python",
   "name": "python",
   "nbconvert_exporter": "python",
   "pygments_lexer": "ipython3",
   "version": "3.10.14"
  }
 },
 "nbformat": 4,
 "nbformat_minor": 2
}
