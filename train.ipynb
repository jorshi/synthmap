{
 "cells": [
  {
   "cell_type": "code",
   "execution_count": null,
   "metadata": {},
   "outputs": [],
   "source": [
    "import torch\n",
    "\n",
    "import IPython.display as ipd\n",
    "import lightning as L\n",
    "\n",
    "from synthmap.data.fitness import MultiScaleSpectralFitness\n",
    "from synthmap.data.genetic import GeneticSynthDataLoader\n",
    "from synthmap.synth import Snare808\n",
    "from synthmap.utils.model_utils import load_model\n",
    "from synthmap.utils.audio_utils import load_audio\n",
    "\n",
    "%load_ext autoreload\n",
    "%autoreload 2"
   ]
  },
  {
   "cell_type": "code",
   "execution_count": null,
   "metadata": {},
   "outputs": [],
   "source": [
    "TARGET = \"audio/kicks/BD 808 Sat Click Decay B 02.wav\"\n",
    "VAE_CFG = \"cfg/param_vae.yaml\""
   ]
  },
  {
   "cell_type": "code",
   "execution_count": null,
   "metadata": {},
   "outputs": [],
   "source": [
    "snare = Snare808(48000, 48000)\n",
    "\n",
    "num_params = snare.get_num_params()\n",
    "params = torch.rand(1, num_params)"
   ]
  },
  {
   "cell_type": "code",
   "execution_count": null,
   "metadata": {},
   "outputs": [],
   "source": [
    "mel_fitness = MultiScaleSpectralFitness(TARGET, 48000, 48000, fft_sizes=[2048], scale=\"mel\", n_bins=128)\n",
    "stft_fitness = MultiScaleSpectralFitness(TARGET, 48000, 48000, fft_sizes=[1024, 512, 256, 64], w_sc=1.0, w_log_mag=0.0, w_lin_mag=1.0, sum_loss=True)"
   ]
  },
  {
   "cell_type": "code",
   "execution_count": null,
   "metadata": {},
   "outputs": [],
   "source": [
    "dataloader = GeneticSynthDataLoader(snare, 10, 128, fitness_fns=[mel_fitness, stft_fitness], verbose=False, reset_on_epoch=False, device=\"cuda\")"
   ]
  },
  {
   "cell_type": "code",
   "execution_count": null,
   "metadata": {},
   "outputs": [],
   "source": [
    "# Pre-seed\n",
    "config = \"lightning_logs/wandb/run-20240419_095659-7vtkk1s1/files/model-config.yaml\"\n",
    "ckpt = \"lightning_logs/wandb/run-20240419_095659-7vtkk1s1/epoch=9-step=312500.ckpt\"\n",
    "model, synth = load_model(config, ckpt, return_synth=True, device=\"cuda\")"
   ]
  },
  {
   "cell_type": "code",
   "execution_count": null,
   "metadata": {},
   "outputs": [],
   "source": [
    "audio = load_audio(TARGET, 48000, length=48000)\n",
    "\n",
    "with torch.no_grad():\n",
    "    params, _, _ = model(audio=audio)\n",
    "\n",
    "print(params)\n",
    "\n",
    "ipd.Audio(synth(params).cpu().numpy(), rate=48000)"
   ]
  },
  {
   "cell_type": "code",
   "execution_count": null,
   "metadata": {},
   "outputs": [],
   "source": [
    "population = dataloader.ga.population.access_values()\n",
    "population[0] = params[0]"
   ]
  },
  {
   "cell_type": "code",
   "execution_count": null,
   "metadata": {},
   "outputs": [],
   "source": [
    "for i, batch in enumerate(dataloader):\n",
    "    preset, audio = batch"
   ]
  },
  {
   "cell_type": "code",
   "execution_count": null,
   "metadata": {},
   "outputs": [],
   "source": [
    "best_params = dataloader.ga.population.take_best(1).values.clone()\n",
    "print(best_params)"
   ]
  },
  {
   "cell_type": "code",
   "execution_count": null,
   "metadata": {},
   "outputs": [],
   "source": [
    "y_hat = synth(best_params)\n",
    "\n",
    "ipd.Audio(y_hat.cpu().numpy(), rate=48000)"
   ]
  },
  {
   "cell_type": "code",
   "execution_count": null,
   "metadata": {},
   "outputs": [],
   "source": [
    "audio = load_audio(TARGET, 48000, length=48000)\n",
    "ipd.Audio(audio[0].cpu().numpy(), rate=48000)"
   ]
  },
  {
   "cell_type": "code",
   "execution_count": null,
   "metadata": {},
   "outputs": [],
   "source": [
    "task = load_model(VAE_CFG, device=\"cpu\", load_data=True)"
   ]
  },
  {
   "cell_type": "code",
   "execution_count": null,
   "metadata": {},
   "outputs": [],
   "source": [
    "trainer = L.Trainer(accelerator=\"gpu\", devices=1, max_epochs=50)\n",
    "trainer.fit(task, train_dataloaders=dataloader)"
   ]
  },
  {
   "cell_type": "code",
   "execution_count": null,
   "metadata": {},
   "outputs": [],
   "source": [
    "p_in = dataloader.ga.population.take_best(1).values.clone()\n",
    "p_out, _, _ = task(params=p_in.to(task.device))\n",
    "\n",
    "out = torch.clamp(p_out, 0.0, 1)\n",
    "ipd.Audio(synth(out).detach().cpu().numpy(), rate=48000)"
   ]
  },
  {
   "cell_type": "code",
   "execution_count": null,
   "metadata": {},
   "outputs": [],
   "source": [
    "p_in = dataloader.ga.population.take_best(1).values.clone()\n",
    "ipd.Audio(synth(p_in).detach().cpu().numpy(), rate=48000)"
   ]
  },
  {
   "cell_type": "code",
   "execution_count": null,
   "metadata": {},
   "outputs": [],
   "source": []
  }
 ],
 "metadata": {
  "kernelspec": {
   "display_name": "synthmap",
   "language": "python",
   "name": "python3"
  },
  "language_info": {
   "codemirror_mode": {
    "name": "ipython",
    "version": 3
   },
   "file_extension": ".py",
   "mimetype": "text/x-python",
   "name": "python",
   "nbconvert_exporter": "python",
   "pygments_lexer": "ipython3",
   "version": "3.10.14"
  }
 },
 "nbformat": 4,
 "nbformat_minor": 2
}
